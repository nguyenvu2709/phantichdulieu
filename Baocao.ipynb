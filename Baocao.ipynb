{
  "nbformat": 4,
  "nbformat_minor": 0,
  "metadata": {
    "colab": {
      "name": "Fruit_Classifier_CNN_ver1.ipynb",
      "provenance": [],
      "collapsed_sections": [],
      "include_colab_link": true
    },
    "kernelspec": {
      "name": "python3",
      "display_name": "Python 3"
    },
    "language_info": {
      "name": "python"
    },
    "accelerator": "GPU"
  },
  "cells": [
    {
      "cell_type": "markdown",
      "metadata": {
        "id": "view-in-github",
        "colab_type": "text"
      },
      "source": [
        "<a href=\"https://colab.research.google.com/github/nguyenvu2709/phantichdulieu/blob/main/Baocao.ipynb\" target=\"_parent\"><img src=\"https://colab.research.google.com/assets/colab-badge.svg\" alt=\"Open In Colab\"/></a>"
      ]
    },
    {
      "cell_type": "code",
      "metadata": {
        "id": "S3y3rZTFcuZm"
      },
      "source": [
        "# Import thư viện cần thiết\n",
        "from os import listdir #Thư viện để truy xuất dữ liệu từ các thư mục\n",
        "import cv2 #Thư viện có các hàm xử lý ảnh\n",
        "import numpy as np \n",
        "import pickle #Thư viện chứa hàm đóng gói là lưu dữ liệu\n",
        "import matplotlib.pyplot as plt #Thư viện để vẽ biểu đồ và hiển thị hình ảnh\n",
        "from sklearn.preprocessing import OneHotEncoder #Tạo One-Hot Encode\n",
        "\n",
        "from sklearn.model_selection import train_test_split #Hàm dùng để chia tập dữ liệu\n",
        "import random #Thư viện tạo số ngẫu nhiên\n",
        "\n",
        "from keras.layers import Input, Flatten, Dense, Dropout\n",
        "from keras.models import Model"
      ],
      "execution_count": 12,
      "outputs": []
    },
    {
      "cell_type": "code",
      "metadata": {
        "id": "-WO9_0kWdscN"
      },
      "source": [
        "# Đường dẫn tới thư mục chứa ảnh dùng để train\n",
        "train_folder = \"/content/drive/MyDrive/DeepLearning/fruit/Training\""
      ],
      "execution_count": 13,
      "outputs": []
    },
    {
      "cell_type": "code",
      "metadata": {
        "id": "L6SdBKesg_BU"
      },
      "source": [
        "# Hàm tạo data bao gồm các hình ảnh trong thư mục và gán nhãn \n",
        "def save_train_data(train_folder=train_folder):\n",
        "\n",
        "    img_size = (64, 64)\n",
        "    print(\"Bắt đầu thêm ảnh...\")\n",
        "\n",
        "    images = []\n",
        "    labels = []\n",
        "    names = []\n",
        "\n",
        "    # Đọc các thư mục con trong folder data\n",
        "    for folder in listdir(data_folder):\n",
        "        if folder!='.DS_Store':\n",
        "            print(folder)\n",
        "            names.append(folder)\n",
        "            # Đọc các file trong thư mục con và lưu hình vào images, nhãn vào label\n",
        "            for file in listdir(data_folder  + folder):\n",
        "                if file!='.DS_Store':\n",
        "                    images.append(cv2.resize(cv2.imread(data_folder  + folder +\"/\" + file),dsize=(64,64)))\n",
        "                    labels.append(folder)\n",
        "\n",
        "    images = np.array(images)\n",
        "    labels = np.array(labels)#.reshape(-1,1)\n",
        "\n",
        "    from sklearn.preprocessing import LabelBinarizer\n",
        "    encoder = LabelBinarizer()\n",
        "    labels = encoder.fit_transform(labels)\n",
        "    print(labels)\n",
        "\n",
        "    file1 = open('/content/drive/MyDrive/DeepLearning/fruit/fruit-train.data','wb')\n",
        "    file2 = open('/content/drive/MyDrive/DeepLearning/fruit/fruit-train-class.data','wb')\n",
        "    # dump information to that file\n",
        "    pickle.dump((images,labels), file1)\n",
        "    pickle.dump(names, file2)\n",
        "    # close the file\n",
        "    file1.close()\n",
        "    file2.close()\n",
        "\n",
        "    return"
      ],
      "execution_count": 14,
      "outputs": []
    },
    {
      "cell_type": "code",
      "metadata": {
        "id": "IXdYZj79hDhN"
      },
      "source": [
        "# Chạy hàm save_data() để lưu data, chỉ chạy 1 lần\n",
        "#save_train_data()"
      ],
      "execution_count": 15,
      "outputs": []
    },
    {
      "cell_type": "code",
      "metadata": {
        "id": "HTPHmhKdhE0F"
      },
      "source": [
        "# Hàm tải data lên để sử dụng data vừa lưu\n",
        "def load_train_data():\n",
        "    file = open('/content/drive/MyDrive/DeepLearning/fruit/fruit-train.data', 'rb')\n",
        "\n",
        "    # dump information to that file\n",
        "    (images, labels) = pickle.load(file)\n",
        "\n",
        "    # close the file\n",
        "    file.close()\n",
        "\n",
        "    print(images.shape)\n",
        "    print(labels.shape)\n",
        "\n",
        "\n",
        "    return images, labels"
      ],
      "execution_count": 16,
      "outputs": []
    },
    {
      "cell_type": "code",
      "metadata": {
        "id": "3pBOlNdjqd9j"
      },
      "source": [
        "# Thư mục chứa ảnh test\n",
        "test_folder = \"/content/drive/MyDrive/DeepLearning/fruit/Test\""
      ],
      "execution_count": 17,
      "outputs": []
    },
    {
      "cell_type": "code",
      "metadata": {
        "id": "A6o5d-Uoqrr-"
      },
      "source": [
        "# Hàm tạo test data từ các hình ảnh trong thư mục test đồng thời gán nhãn\n",
        "def save_test_data(test_folder=test_folder):\n",
        "\n",
        "    img_size = (64, 64)\n",
        "    print(\"Bắt đầu thêm ảnh...\")\n",
        "\n",
        "    images = []\n",
        "    labels = []\n",
        "    names = []\n",
        "\n",
        "    # Đọc các thư mục con trong folder data\n",
        "    for folder in listdir(test_folder):\n",
        "        if folder!='.DS_Store':\n",
        "            print(folder)\n",
        "            names.append(folder)\n",
        "            # Đọc các file trong thư mục con và lưu hình vào images, nhãn vào label\n",
        "            for file in listdir(test_folder  + folder):\n",
        "                if file!='.DS_Store':\n",
        "                    images.append(cv2.resize(cv2.imread(test_folder  + folder +\"/\" + file),dsize=(64,64)))\n",
        "                    labels.append(folder)\n",
        "\n",
        "    images = np.array(images)\n",
        "    labels = np.array(labels)#.reshape(-1,1)\n",
        "\n",
        "    from sklearn.preprocessing import LabelBinarizer\n",
        "    encoder = LabelBinarizer()\n",
        "    labels = encoder.fit_transform(labels)\n",
        "    print(labels)\n",
        "\n",
        "    file1 = open('/content/drive/MyDrive/DeepLearning/fruit/fruit-test.data','wb')\n",
        "    file2 = open('/content/drive/MyDrive/DeepLearning/fruit/fruit-test-class.data','wb')\n",
        "    # dump information to that file\n",
        "    pickle.dump((images,labels), file1)\n",
        "    pickle.dump(names, file2)\n",
        "    # close the file\n",
        "    file1.close()\n",
        "    file2.close()\n",
        "\n",
        "    return"
      ],
      "execution_count": 18,
      "outputs": []
    },
    {
      "cell_type": "code",
      "metadata": {
        "id": "j0hVKP8uq46T"
      },
      "source": [
        "# Chạy hàm save_test_data() để lưu data, chỉ chạy 1 lần\n",
        "#save_test_data()"
      ],
      "execution_count": 19,
      "outputs": []
    },
    {
      "cell_type": "code",
      "metadata": {
        "id": "oWYYz6Ntq7um"
      },
      "source": [
        "# Hàm tải lại test data đã lưu\n",
        "def load_test_data():\n",
        "    file = open('/content/drive/MyDrive/DeepLearning/fruit/fruit-test.data', 'rb')\n",
        "\n",
        "    # dump information to that file\n",
        "    (images, labels) = pickle.load(file)\n",
        "\n",
        "    # close the file\n",
        "    file.close()\n",
        "\n",
        "    print(images.shape)\n",
        "    print(labels.shape)\n",
        "\n",
        "    return images, labels"
      ],
      "execution_count": 20,
      "outputs": []
    },
    {
      "cell_type": "code",
      "metadata": {
        "id": "-CFzcBAPrV54"
      },
      "source": [
        "# Hàm tải class của các test data\n",
        "def load_class():\n",
        "    file = open('/content/drive/MyDrive/DeepLearning/fruit/fruit-test-class.data', 'rb')\n",
        "\n",
        "    # dump information to that file\n",
        "    names = pickle.load(file)\n",
        "\n",
        "    # close the file\n",
        "    file.close()\n",
        "\n",
        "    print(len(names))\n",
        "    \n",
        "    return names"
      ],
      "execution_count": 21,
      "outputs": []
    },
    {
      "cell_type": "code",
      "metadata": {
        "colab": {
          "base_uri": "https://localhost:8080/",
          "height": 321
        },
        "id": "FUXxpgp1hHk9",
        "outputId": "8f62d3a1-6dc6-416e-e991-554e2dc4321a"
      },
      "source": [
        "\n",
        "# Load data và lưu và biến X, y\n",
        "X,y = load_train_data()"
      ],
      "execution_count": 22,
      "outputs": [
        {
          "output_type": "error",
          "ename": "FileNotFoundError",
          "evalue": "ignored",
          "traceback": [
            "\u001b[0;31m---------------------------------------------------------------------------\u001b[0m",
            "\u001b[0;31mFileNotFoundError\u001b[0m                         Traceback (most recent call last)",
            "\u001b[0;32m<ipython-input-22-1e98c3f1655f>\u001b[0m in \u001b[0;36m<module>\u001b[0;34m()\u001b[0m\n\u001b[1;32m      1\u001b[0m \u001b[0;34m\u001b[0m\u001b[0m\n\u001b[1;32m      2\u001b[0m \u001b[0;31m# Load data và lưu và biến X, y\u001b[0m\u001b[0;34m\u001b[0m\u001b[0;34m\u001b[0m\u001b[0;34m\u001b[0m\u001b[0m\n\u001b[0;32m----> 3\u001b[0;31m \u001b[0mX\u001b[0m\u001b[0;34m,\u001b[0m\u001b[0my\u001b[0m \u001b[0;34m=\u001b[0m \u001b[0mload_train_data\u001b[0m\u001b[0;34m(\u001b[0m\u001b[0;34m)\u001b[0m\u001b[0;34m\u001b[0m\u001b[0;34m\u001b[0m\u001b[0m\n\u001b[0m",
            "\u001b[0;32m<ipython-input-16-abc7a2bdf810>\u001b[0m in \u001b[0;36mload_train_data\u001b[0;34m()\u001b[0m\n\u001b[1;32m      1\u001b[0m \u001b[0;31m# Hàm tải data lên để sử dụng data vừa lưu\u001b[0m\u001b[0;34m\u001b[0m\u001b[0;34m\u001b[0m\u001b[0;34m\u001b[0m\u001b[0m\n\u001b[1;32m      2\u001b[0m \u001b[0;32mdef\u001b[0m \u001b[0mload_train_data\u001b[0m\u001b[0;34m(\u001b[0m\u001b[0;34m)\u001b[0m\u001b[0;34m:\u001b[0m\u001b[0;34m\u001b[0m\u001b[0;34m\u001b[0m\u001b[0m\n\u001b[0;32m----> 3\u001b[0;31m     \u001b[0mfile\u001b[0m \u001b[0;34m=\u001b[0m \u001b[0mopen\u001b[0m\u001b[0;34m(\u001b[0m\u001b[0;34m'/content/drive/MyDrive/DeepLearning/fruit/fruit-train.data'\u001b[0m\u001b[0;34m,\u001b[0m \u001b[0;34m'rb'\u001b[0m\u001b[0;34m)\u001b[0m\u001b[0;34m\u001b[0m\u001b[0;34m\u001b[0m\u001b[0m\n\u001b[0m\u001b[1;32m      4\u001b[0m \u001b[0;34m\u001b[0m\u001b[0m\n\u001b[1;32m      5\u001b[0m     \u001b[0;31m# dump information to that file\u001b[0m\u001b[0;34m\u001b[0m\u001b[0;34m\u001b[0m\u001b[0;34m\u001b[0m\u001b[0m\n",
            "\u001b[0;31mFileNotFoundError\u001b[0m: [Errno 2] No such file or directory: '/content/drive/MyDrive/DeepLearning/fruit/fruit-train.data'"
          ]
        }
      ]
    },
    {
      "cell_type": "code",
      "metadata": {
        "id": "DT7BDZcBiuzt"
      },
      "source": [
        "# Chia tập dữ liệu thành 80% dùng để train, 20% dùng để test\n",
        "X_train, X_val, y_train, y_val = train_test_split( X, y, test_size=0.2, random_state=100)\n",
        "\n",
        "print(X_train.shape)\n",
        "print(y_train.shape)"
      ],
      "execution_count": null,
      "outputs": []
    },
    {
      "cell_type": "code",
      "metadata": {
        "id": "vmvFZMrpZS2D"
      },
      "source": [
        "#Hiển thị ngẫu nhiên 1 dữ liệu\n",
        "plt.figure(figsize=(64, 64))\n",
        "plt.imshow(X_train[random.randint(0,len(X_train))])"
      ],
      "execution_count": null,
      "outputs": []
    },
    {
      "cell_type": "code",
      "metadata": {
        "id": "79MdL-w4i5Y9"
      },
      "source": [
        "# Hàm dùng để chuẩn hoá dữ liệu ảnh\n",
        "def convertImage(img):\n",
        "    img = cv2.cvtColor(img, cv2.COLOR_BGR2GRAY)\n",
        "    img = cv2.equalizeHist(img)\n",
        "    img = img /255\n",
        "    \n",
        "    return img"
      ],
      "execution_count": null,
      "outputs": []
    },
    {
      "cell_type": "code",
      "metadata": {
        "id": "ogr64tIHi7Kg"
      },
      "source": [
        "# Chuẩn hoá dữ liệu (Normalize the data)\n",
        "X_train = np.array(list(map(convertImage, X_train)))\n",
        "X_val = np.array(list(map(convertImage, X_val)))"
      ],
      "execution_count": null,
      "outputs": []
    },
    {
      "cell_type": "code",
      "metadata": {
        "id": "tR3GTA4ui9i_"
      },
      "source": [
        "# Hiển thị ngẫu nhiên 1 dữ liệu đã chuẩn hoá\n",
        "plt.figure(figsize=(64, 64))\n",
        "plt.imshow(X_train[random.randint(0,len(X_train))])"
      ],
      "execution_count": null,
      "outputs": []
    },
    {
      "cell_type": "code",
      "metadata": {
        "id": "WP3ULfihjAQB"
      },
      "source": [
        "# Reshape data để phù hợp với Input_shape của Model\n",
        "X_train = X_train.reshape(-1, 64, 64, 1)\n",
        "X_val = X_val.reshape(-1, 64, 64, 1)"
      ],
      "execution_count": null,
      "outputs": []
    },
    {
      "cell_type": "code",
      "metadata": {
        "id": "g8FBVeL1jDXm"
      },
      "source": [
        "# Create CNN Model\n",
        "from keras.models import Sequential\n",
        "from keras.layers import Dense, Conv2D, MaxPooling2D, Flatten, Dropout, BatchNormalization\n",
        "\n",
        "model = Sequential()\n",
        "model.add(Conv2D(input_shape = (64,64,1), filters = 20, kernel_size = (5,5), activation = \"relu\", padding = \"same\"))\n",
        "model.add(MaxPooling2D(pool_size=(2,2)))\n",
        "\n",
        "model.add(Conv2D(filters = 40, kernel_size = (3,3), activation = \"relu\", padding = \"same\"))\n",
        "model.add(MaxPooling2D(pool_size=(2,2)))\n",
        "\n",
        "model.add(Conv2D(filters=80, kernel_size=(3,3), activation=\"relu\", padding=\"same\"))\n",
        "model.add(MaxPooling2D(pool_size=(2,2)))\n",
        "\n",
        "model.add(Dropout(0.2))\n",
        "model.add(Flatten())\n",
        "model.add(Dense(units=1024, activation = \"relu\"))\n",
        "model.add(Dense(units=512, activation = \"relu\"))\n",
        "model.add(Dense(units=131, activation = \"softmax\"))\n",
        "\n",
        "model.compile(loss = \"categorical_crossentropy\", optimizer = \"adam\", metrics = [\"accuracy\"])\n",
        "model.summary()"
      ],
      "execution_count": null,
      "outputs": []
    },
    {
      "cell_type": "code",
      "metadata": {
        "id": "CHwv2fV4jEee"
      },
      "source": [
        "# Huấn luyện model và lưu lại model\n",
        "hist = model.fit(X_train, y_train, epochs = 10, validation_data = (X_val,y_val))\n",
        "model.save(\"/content/drive/MyDrive/DeepLearning/fruit/fruit-classifier.h5\")"
      ],
      "execution_count": null,
      "outputs": []
    },
    {
      "cell_type": "code",
      "metadata": {
        "id": "gaTkYZI_JmNg"
      },
      "source": [
        "#2700 la chuoi\n",
        "#13048 la cam\n",
        "#21572 la ca chua cherry\n",
        "#22687 la dua hau"
      ],
      "execution_count": null,
      "outputs": []
    },
    {
      "cell_type": "code",
      "metadata": {
        "id": "1JPex9AnshHz"
      },
      "source": [
        "# Load lại test data để model thử predict\n",
        "X_pred, y_pred = load_test_data()\n",
        "class_pred = load_class()\n",
        "\n",
        "# num to predict\n",
        "num = random.randint(0,len(X_pred))\n",
        "\n",
        "# Hiển thị hình ảnh predict\n",
        "plt.figure(figsize=(64, 64))\n",
        "plt.imshow(X_pred[num])\n",
        "\n",
        "# Chuẩn hoá dữ liệu predict\n",
        "X_pred = np.array(list(map(convertImage, X_pred)))\n",
        "\n",
        "# Predict\n",
        "X_pred = X_pred.reshape(-1, 64, 64, 1)\n",
        "y_pred_by_model = model.predict(X_pred[num-1:num])\n",
        "print('True Class: ', class_pred[np.argmax(y_pred[num])])\n",
        "print('Predicted Class: ', class_pred[np.argmax(y_pred_by_model)])"
      ],
      "execution_count": null,
      "outputs": []
    },
    {
      "cell_type": "code",
      "metadata": {
        "id": "Hg9q5-_dMeCN"
      },
      "source": [
        "# Đánh giá model\n",
        "def plot_model_history(model_history, acc='accuracy', val_acc='val_accuracy'):\n",
        "    fig, axs = plt.subplots(1, 2, figsize=(15, 5))\n",
        "    axs[0].plot(range(1, len(model_history.history[acc]) + 1), model_history.history[acc])\n",
        "    axs[0].plot(range(1, len(model_history.history[val_acc]) + 1), model_history.history[val_acc])\n",
        "    axs[0].set_title('Model Accuracy')\n",
        "    axs[0].set_ylabel('Accuracy')\n",
        "    axs[0].set_xlabel('Epoch')\n",
        "    axs[0].set_xticks(np.arange(1, len(model_history.history[acc]) + 1), len(model_history.history[acc]) / 10)\n",
        "    axs[0].legend(['train', 'val'], loc='best')\n",
        "    axs[1].plot(range(1, len(model_history.history['loss']) + 1), model_history.history['loss'])\n",
        "    axs[1].plot(range(1, len(model_history.history['val_loss']) + 1), model_history.history['val_loss'])\n",
        "    axs[1].set_title('Model Loss')\n",
        "    axs[1].set_ylabel('Loss')\n",
        "    axs[1].set_xlabel('Epoch')\n",
        "    axs[1].set_xticks(np.arange(1, len(model_history.history['loss']) + 1), len(model_history.history['loss']) / 10)\n",
        "    axs[1].legend(['train', 'val'], loc='best')\n",
        "    #plt.show()\n",
        "    plt.savefig('roc.png')\n",
        "    return\n",
        "\n",
        "plot_model_history(hist)"
      ],
      "execution_count": null,
      "outputs": []
    },
    {
      "cell_type": "code",
      "metadata": {
        "id": "p2BVBABhdEZB"
      },
      "source": [
        ""
      ],
      "execution_count": null,
      "outputs": []
    }
  ]
}